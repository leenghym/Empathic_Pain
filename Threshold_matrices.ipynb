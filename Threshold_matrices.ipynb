{
 "cells": [
  {
   "cell_type": "code",
   "execution_count": 2,
   "id": "70c5143f",
   "metadata": {},
   "outputs": [
    {
     "name": "stdout",
     "output_type": "stream",
     "text": [
      "conn_all shape: (53, 2, 69, 69)\n"
     ]
    }
   ],
   "source": [
    "import os, glob\n",
    "import numpy as np\n",
    "import pandas as pd\n",
    "\n",
    "base_dir     = '/Users/lyanne/EmpathicPain'\n",
    "run1_pattern = os.path.join(base_dir, 'sub-*_run-01_connectivity.csv')\n",
    "run1_files   = sorted(glob.glob(run1_pattern))\n",
    "\n",
    "subject_list = [os.path.basename(f).split('_run-01_connectivity.csv')[0] \n",
    "                for f in run1_files]\n",
    "n_subj = len(subject_list)\n",
    "\n",
    "conn_all = np.zeros((n_subj, 2, 69, 69))\n",
    "for i, subj in enumerate(subject_list):\n",
    "    fn1 = os.path.join(base_dir, f\"{subj}_run-01_connectivity.csv\")\n",
    "    fn2 = os.path.join(base_dir, f\"{subj}_run-02_connectivity.csv\")\n",
    "    \n",
    "    # skip the first (header) row\n",
    "    mat1 = pd.read_csv(fn1, header=None, skiprows=1).values\n",
    "    mat2 = pd.read_csv(fn2, header=None, skiprows=1).values\n",
    "    \n",
    "    assert mat1.shape == (69, 69)\n",
    "    assert mat2.shape == (69, 69)\n",
    "    \n",
    "    conn_all[i, 0] = mat1\n",
    "    conn_all[i, 1] = mat2\n",
    "\n",
    "print(\"conn_all shape:\", conn_all.shape)  # → (n_subj, 2, 69, 69)\n",
    "\n"
   ]
  },
  {
   "cell_type": "code",
   "execution_count": 8,
   "id": "102a8eba",
   "metadata": {},
   "outputs": [
    {
     "name": "stdout",
     "output_type": "stream",
     "text": [
      "Thresholded connectivity shape: (53, 2, 69, 69)\n"
     ]
    }
   ],
   "source": [
    "import numpy as np\n",
    "\n",
    "def threshold_proportional(mat, density):\n",
    "    \"\"\"\n",
    "    Keeps only the top `density` fraction of absolute weights in `mat`.\n",
    "    mat : square, symmetric 2D array (ROI×ROI)\n",
    "    density : float between 0 and 1\n",
    "    returns a new matrix with the same shape, zeroed below threshold\n",
    "    \"\"\"\n",
    "    # 1. copy and zero diagonal\n",
    "    M = mat.copy()\n",
    "    np.fill_diagonal(M, 0)\n",
    "    \n",
    "    # 2. get all off‐diagonal absolute values (upper triangle)\n",
    "    iu = np.triu_indices_from(M, k=1)\n",
    "    abs_vals = np.abs(M[iu])\n",
    "    \n",
    "    # 3. find cutoff so that only `density` fraction remain\n",
    "    cutoff = np.percentile(abs_vals, 100 * (1 - density))\n",
    "    \n",
    "    # 4. zero out everything with abs < cutoff\n",
    "    M[np.abs(M) < cutoff] = 0\n",
    "    \n",
    "    # 5. (optional) re‐symmetrize to ensure perfect symmetry\n",
    "    M = np.maximum(M, M.T)\n",
    "    return M\n",
    "\n",
    "\n",
    "# assume conn_all.shape == (n_subj, 2, 69, 69)\n",
    "n_subj = conn_all.shape[0]\n",
    "n_runs = conn_all.shape[1]\n",
    "\n",
    "# pre‐allocate\n",
    "threshold_conn_all = np.zeros_like(conn_all)\n",
    "\n",
    "# choose your density\n",
    "density = 0.20  # e.g. keep top 10% of edges\n",
    "\n",
    "for i in range(n_subj):\n",
    "    for run in range(n_runs):\n",
    "        threshold_conn_all[i, run] = threshold_proportional(\n",
    "            conn_all[i, run],\n",
    "            density=density\n",
    "        )\n",
    "\n",
    "print(\"Thresholded connectivity shape:\", threshold_conn_all.shape)\n",
    "# → (n_subj, 2, 69, 69)\n",
    "\n"
   ]
  },
  {
   "cell_type": "code",
   "execution_count": null,
   "id": "dd4d792b",
   "metadata": {},
   "outputs": [],
   "source": []
  }
 ],
 "metadata": {
  "kernelspec": {
   "display_name": "base",
   "language": "python",
   "name": "python3"
  },
  "language_info": {
   "codemirror_mode": {
    "name": "ipython",
    "version": 3
   },
   "file_extension": ".py",
   "mimetype": "text/x-python",
   "name": "python",
   "nbconvert_exporter": "python",
   "pygments_lexer": "ipython3",
   "version": "3.13.2"
  }
 },
 "nbformat": 4,
 "nbformat_minor": 5
}
